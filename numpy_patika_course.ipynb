{
 "cells": [
  {
   "cell_type": "markdown",
   "id": "5e7faa02-f50e-49f6-8a23-5cc924e7e695",
   "metadata": {},
   "source": [
    "# NUMPY KURSU\n",
    "  • Bu kurs veri analizi bootcamp kapsamında tamamlanmıştır."
   ]
  },
  {
   "cell_type": "code",
   "execution_count": 3,
   "id": "d711c7d9-7596-4d21-af3f-3ffe35d64801",
   "metadata": {},
   "outputs": [],
   "source": [
    "#Numpy kütüphanesi daha efektif çalışması açısından C dilinde yazılmıştır.\n",
    "import numpy as np"
   ]
  },
  {
   "cell_type": "code",
   "execution_count": 422,
   "id": "a7affea8-9aed-4e83-9e11-0691eda58fde",
   "metadata": {},
   "outputs": [
    {
     "data": {
      "text/plain": [
       "array([1, 2, 3, 4])"
      ]
     },
     "execution_count": 422,
     "metadata": {},
     "output_type": "execute_result"
    }
   ],
   "source": [
    "x = np.array([1,2,3,4]) #Numpy arraylerinde tek tip veri bulunur. Bu bir sayı öbeği row ve cloumn mantığı yok.\n",
    "x"
   ]
  },
  {
   "cell_type": "code",
   "execution_count": 7,
   "id": "4cc57abc-dc62-4c27-9771-f182dad3add6",
   "metadata": {},
   "outputs": [
    {
     "data": {
      "text/plain": [
       "numpy.ndarray"
      ]
     },
     "execution_count": 7,
     "metadata": {},
     "output_type": "execute_result"
    }
   ],
   "source": [
    "type(x)"
   ]
  },
  {
   "cell_type": "code",
   "execution_count": 9,
   "id": "5e1aeb17-961f-4dc6-bd78-77ab74024acb",
   "metadata": {},
   "outputs": [
    {
     "data": {
      "text/plain": [
       "numpy.ndarray"
      ]
     },
     "execution_count": 9,
     "metadata": {},
     "output_type": "execute_result"
    }
   ],
   "source": [
    "y = np.array([1,2,\"3\"]) #string data casting.\n",
    "y\n",
    "type(y)"
   ]
  },
  {
   "cell_type": "code",
   "execution_count": 50,
   "id": "c5363cd6-3248-4f8f-a8bc-641d4aaf6c78",
   "metadata": {},
   "outputs": [
    {
     "data": {
      "text/plain": [
       "array([2, 2, 3, 4, 5, 6])"
      ]
     },
     "execution_count": 50,
     "metadata": {},
     "output_type": "execute_result"
    }
   ],
   "source": [
    "z = np.array([2.7,2,3,4,5,6], dtype=\"int32\")\n",
    "z"
   ]
  },
  {
   "cell_type": "code",
   "execution_count": 56,
   "id": "3175e975-546f-447b-827c-2b96644a6916",
   "metadata": {},
   "outputs": [
    {
     "data": {
      "text/plain": [
       "array(['1', '2', '3', '4', '5'], dtype='<U1')"
      ]
     },
     "execution_count": 56,
     "metadata": {},
     "output_type": "execute_result"
    }
   ],
   "source": [
    "t = np.array([1,2,3,4,5], dtype = \"str\")\n",
    "t"
   ]
  },
  {
   "cell_type": "code",
   "execution_count": 64,
   "id": "2e7ea4ec-3368-4ceb-aab1-5e0e715cc273",
   "metadata": {},
   "outputs": [
    {
     "data": {
      "text/plain": [
       "array([0., 0., 0., 0., 0.])"
      ]
     },
     "execution_count": 64,
     "metadata": {},
     "output_type": "execute_result"
    }
   ],
   "source": [
    "u = np.zeros(5)\n",
    "u"
   ]
  },
  {
   "cell_type": "code",
   "execution_count": 66,
   "id": "a93fb5ae-628a-4894-af85-34736aee2ba7",
   "metadata": {},
   "outputs": [
    {
     "data": {
      "text/plain": [
       "numpy.ndarray"
      ]
     },
     "execution_count": 66,
     "metadata": {},
     "output_type": "execute_result"
    }
   ],
   "source": [
    "type(u)"
   ]
  },
  {
   "cell_type": "code",
   "execution_count": 68,
   "id": "d701a4fa-b50a-4e5f-8870-b5caa8b2756a",
   "metadata": {},
   "outputs": [
    {
     "data": {
      "text/plain": [
       "array(['', '', '', '', '', '', '', '', '', ''], dtype='<U1')"
      ]
     },
     "execution_count": 68,
     "metadata": {},
     "output_type": "execute_result"
    }
   ],
   "source": [
    "np.zeros(10, dtype=\"str\")"
   ]
  },
  {
   "cell_type": "code",
   "execution_count": 72,
   "id": "ad1cc006-a757-4b1c-9204-d24088077341",
   "metadata": {},
   "outputs": [
    {
     "data": {
      "text/plain": [
       "array([[[[0., 0., 0., 0., 0., 0.],\n",
       "         [0., 0., 0., 0., 0., 0.],\n",
       "         [0., 0., 0., 0., 0., 0.],\n",
       "         [0., 0., 0., 0., 0., 0.],\n",
       "         [0., 0., 0., 0., 0., 0.]],\n",
       "\n",
       "        [[0., 0., 0., 0., 0., 0.],\n",
       "         [0., 0., 0., 0., 0., 0.],\n",
       "         [0., 0., 0., 0., 0., 0.],\n",
       "         [0., 0., 0., 0., 0., 0.],\n",
       "         [0., 0., 0., 0., 0., 0.]],\n",
       "\n",
       "        [[0., 0., 0., 0., 0., 0.],\n",
       "         [0., 0., 0., 0., 0., 0.],\n",
       "         [0., 0., 0., 0., 0., 0.],\n",
       "         [0., 0., 0., 0., 0., 0.],\n",
       "         [0., 0., 0., 0., 0., 0.]],\n",
       "\n",
       "        [[0., 0., 0., 0., 0., 0.],\n",
       "         [0., 0., 0., 0., 0., 0.],\n",
       "         [0., 0., 0., 0., 0., 0.],\n",
       "         [0., 0., 0., 0., 0., 0.],\n",
       "         [0., 0., 0., 0., 0., 0.]]],\n",
       "\n",
       "\n",
       "       [[[0., 0., 0., 0., 0., 0.],\n",
       "         [0., 0., 0., 0., 0., 0.],\n",
       "         [0., 0., 0., 0., 0., 0.],\n",
       "         [0., 0., 0., 0., 0., 0.],\n",
       "         [0., 0., 0., 0., 0., 0.]],\n",
       "\n",
       "        [[0., 0., 0., 0., 0., 0.],\n",
       "         [0., 0., 0., 0., 0., 0.],\n",
       "         [0., 0., 0., 0., 0., 0.],\n",
       "         [0., 0., 0., 0., 0., 0.],\n",
       "         [0., 0., 0., 0., 0., 0.]],\n",
       "\n",
       "        [[0., 0., 0., 0., 0., 0.],\n",
       "         [0., 0., 0., 0., 0., 0.],\n",
       "         [0., 0., 0., 0., 0., 0.],\n",
       "         [0., 0., 0., 0., 0., 0.],\n",
       "         [0., 0., 0., 0., 0., 0.]],\n",
       "\n",
       "        [[0., 0., 0., 0., 0., 0.],\n",
       "         [0., 0., 0., 0., 0., 0.],\n",
       "         [0., 0., 0., 0., 0., 0.],\n",
       "         [0., 0., 0., 0., 0., 0.],\n",
       "         [0., 0., 0., 0., 0., 0.]]],\n",
       "\n",
       "\n",
       "       [[[0., 0., 0., 0., 0., 0.],\n",
       "         [0., 0., 0., 0., 0., 0.],\n",
       "         [0., 0., 0., 0., 0., 0.],\n",
       "         [0., 0., 0., 0., 0., 0.],\n",
       "         [0., 0., 0., 0., 0., 0.]],\n",
       "\n",
       "        [[0., 0., 0., 0., 0., 0.],\n",
       "         [0., 0., 0., 0., 0., 0.],\n",
       "         [0., 0., 0., 0., 0., 0.],\n",
       "         [0., 0., 0., 0., 0., 0.],\n",
       "         [0., 0., 0., 0., 0., 0.]],\n",
       "\n",
       "        [[0., 0., 0., 0., 0., 0.],\n",
       "         [0., 0., 0., 0., 0., 0.],\n",
       "         [0., 0., 0., 0., 0., 0.],\n",
       "         [0., 0., 0., 0., 0., 0.],\n",
       "         [0., 0., 0., 0., 0., 0.]],\n",
       "\n",
       "        [[0., 0., 0., 0., 0., 0.],\n",
       "         [0., 0., 0., 0., 0., 0.],\n",
       "         [0., 0., 0., 0., 0., 0.],\n",
       "         [0., 0., 0., 0., 0., 0.],\n",
       "         [0., 0., 0., 0., 0., 0.]]]])"
      ]
     },
     "execution_count": 72,
     "metadata": {},
     "output_type": "execute_result"
    }
   ],
   "source": [
    "np.zeros((3,4,5,6))"
   ]
  },
  {
   "cell_type": "code",
   "execution_count": 74,
   "id": "9dc4815b-0c17-4f31-a293-1075b36a23bb",
   "metadata": {},
   "outputs": [
    {
     "data": {
      "text/plain": [
       "array([False, False, False, False, False, False, False, False, False,\n",
       "       False])"
      ]
     },
     "execution_count": 74,
     "metadata": {},
     "output_type": "execute_result"
    }
   ],
   "source": [
    "np.zeros(10, dtype=\"bool\")"
   ]
  },
  {
   "cell_type": "code",
   "execution_count": 76,
   "id": "b745a71b-b65c-4aa7-9013-aa5b9edf7834",
   "metadata": {},
   "outputs": [
    {
     "data": {
      "text/plain": [
       "array([[4, 4, 4],\n",
       "       [4, 4, 4]])"
      ]
     },
     "execution_count": 76,
     "metadata": {},
     "output_type": "execute_result"
    }
   ],
   "source": [
    "np.full((2,3), 4)"
   ]
  },
  {
   "cell_type": "code",
   "execution_count": 78,
   "id": "2aefb1d7-7b69-4da5-84b2-852cd11c0738",
   "metadata": {},
   "outputs": [
    {
     "data": {
      "text/plain": [
       "array([ True,  True])"
      ]
     },
     "execution_count": 78,
     "metadata": {},
     "output_type": "execute_result"
    }
   ],
   "source": [
    "np.full(2,True)"
   ]
  },
  {
   "cell_type": "code",
   "execution_count": 80,
   "id": "d79cfa2f-dc3f-475d-83ad-ab33754c3596",
   "metadata": {},
   "outputs": [
    {
     "data": {
      "text/plain": [
       "array([ 0,  1,  2,  3,  4,  5,  6,  7,  8,  9, 10, 11])"
      ]
     },
     "execution_count": 80,
     "metadata": {},
     "output_type": "execute_result"
    }
   ],
   "source": [
    "np.arange(0,12)"
   ]
  },
  {
   "cell_type": "code",
   "execution_count": 82,
   "id": "78a480b8-ded8-4ae6-aa25-3eecb7b9c2c2",
   "metadata": {},
   "outputs": [
    {
     "data": {
      "text/plain": [
       "array([ 2,  4,  6,  8, 10])"
      ]
     },
     "execution_count": 82,
     "metadata": {},
     "output_type": "execute_result"
    }
   ],
   "source": [
    "np.arange(2,12,2)"
   ]
  },
  {
   "cell_type": "code",
   "execution_count": 86,
   "id": "74ab890b-e4f0-4715-a675-c61937da4ad0",
   "metadata": {},
   "outputs": [
    {
     "data": {
      "text/plain": [
       "array([1. , 1.5, 2. ])"
      ]
     },
     "execution_count": 86,
     "metadata": {},
     "output_type": "execute_result"
    }
   ],
   "source": [
    "np.linspace(1,2,3) #linspace means \"linear space\" (doğrusal aralık) "
   ]
  },
  {
   "cell_type": "code",
   "execution_count": 88,
   "id": "cd118730-23dd-4a43-a626-4dca747c5b2d",
   "metadata": {},
   "outputs": [
    {
     "data": {
      "text/plain": [
       "array([1. , 1.5, 2. ])"
      ]
     },
     "execution_count": 88,
     "metadata": {},
     "output_type": "execute_result"
    }
   ],
   "source": [
    "np.linspace(1,2,num=3)"
   ]
  },
  {
   "cell_type": "code",
   "execution_count": 90,
   "id": "dcd092a0-1e97-4de5-8ba1-34050ba07dac",
   "metadata": {},
   "outputs": [
    {
     "data": {
      "text/plain": [
       "array([1.        , 1.33333333, 1.66666667])"
      ]
     },
     "execution_count": 90,
     "metadata": {},
     "output_type": "execute_result"
    }
   ],
   "source": [
    "np.linspace(1,2,3, endpoint=False)"
   ]
  },
  {
   "cell_type": "code",
   "execution_count": 92,
   "id": "0575bcfa-7487-4781-85dc-0e739aa837c7",
   "metadata": {},
   "outputs": [
    {
     "data": {
      "text/plain": [
       "array([[-0.93952799,  0.01673072, -1.88902046, -0.70008724, -0.06513635],\n",
       "       [-1.86144471, -0.03791456, -2.25136472,  0.75190963,  0.75282672],\n",
       "       [-1.96628117,  1.59189926,  0.9396166 , -0.10714574,  0.90218008],\n",
       "       [ 0.20833597,  0.58394431,  1.06416446,  1.22497119, -0.8648219 ]])"
      ]
     },
     "execution_count": 92,
     "metadata": {},
     "output_type": "execute_result"
    }
   ],
   "source": [
    "np.random.normal(0,1,(4,5))"
   ]
  },
  {
   "cell_type": "code",
   "execution_count": 94,
   "id": "4fcfc649-898e-44e8-9567-6c257b69f55f",
   "metadata": {},
   "outputs": [
    {
     "data": {
      "text/plain": [
       "array([[ 11.59652062,   9.15003932,  12.52722199,  -4.73573193,\n",
       "         -8.25647743],\n",
       "       [-18.73978201,   2.84598956,   0.71654394,   4.33348316,\n",
       "         13.11958096],\n",
       "       [ -5.19552127,  -9.68038936,   8.32689921,  -2.92663525,\n",
       "          0.97539855],\n",
       "       [  0.56821069,  -5.03884372,   0.14062204,  -2.54050485,\n",
       "         -8.55957744]])"
      ]
     },
     "execution_count": 94,
     "metadata": {},
     "output_type": "execute_result"
    }
   ],
   "source": [
    "np.random.normal(0,10,(4,5))"
   ]
  },
  {
   "cell_type": "code",
   "execution_count": 96,
   "id": "ea87c4a3-1740-4950-bd22-1df07865144a",
   "metadata": {},
   "outputs": [
    {
     "data": {
      "text/plain": [
       "array([[10.4378949 , 17.54427341, 15.25323121, 31.38291024, -5.10964548],\n",
       "       [25.26202198, 24.43601551, 33.04099885,  9.72571853, 12.66482762],\n",
       "       [ 0.30786571, 26.90282208, 21.18161563, 17.8073792 , 15.35797795],\n",
       "       [40.13103499, 17.81137364, 15.98118428, 14.44844432, 26.29042827]])"
      ]
     },
     "execution_count": 96,
     "metadata": {},
     "output_type": "execute_result"
    }
   ],
   "source": [
    "np.random.normal(15,10,(4,5)) "
   ]
  },
  {
   "cell_type": "code",
   "execution_count": 110,
   "id": "f64db4b9-fd09-4319-bf1e-5ebdf9c75596",
   "metadata": {},
   "outputs": [
    {
     "data": {
      "text/plain": [
       "16"
      ]
     },
     "execution_count": 110,
     "metadata": {},
     "output_type": "execute_result"
    }
   ],
   "source": [
    "np.random.randint(1,23)"
   ]
  },
  {
   "cell_type": "code",
   "execution_count": 108,
   "id": "1dd03f2e-89df-4c09-8091-122d5b0f5d09",
   "metadata": {},
   "outputs": [
    {
     "data": {
      "text/plain": [
       "array([[22,  4,  3, 14,  5],\n",
       "       [ 9,  4, 18, 15, 11]])"
      ]
     },
     "execution_count": 108,
     "metadata": {},
     "output_type": "execute_result"
    }
   ],
   "source": [
    "np.random.randint(1,23,(2,5))"
   ]
  },
  {
   "cell_type": "code",
   "execution_count": 118,
   "id": "edb54648-808d-4bd4-81ee-e863c76806d5",
   "metadata": {},
   "outputs": [
    {
     "data": {
      "text/plain": [
       "{18: 9239,\n",
       " 17: 9268,\n",
       " 13: 9037,\n",
       " 11: 9117,\n",
       " 15: 9087,\n",
       " 21: 8956,\n",
       " 10: 9232,\n",
       " 19: 9139,\n",
       " 7: 9089,\n",
       " 3: 8933,\n",
       " 1: 9082,\n",
       " 22: 9064,\n",
       " 4: 9158,\n",
       " 2: 9090,\n",
       " 6: 8998,\n",
       " 5: 9230,\n",
       " 9: 9035,\n",
       " 12: 9075,\n",
       " 16: 9154,\n",
       " 14: 8995,\n",
       " 20: 8973,\n",
       " 8: 9049}"
      ]
     },
     "execution_count": 118,
     "metadata": {},
     "output_type": "execute_result"
    }
   ],
   "source": [
    "how_many = {}\n",
    "\n",
    "for _ in range(200000):\n",
    "    value = np.random.randint(1,23)\n",
    "    if value not in how_many:\n",
    "        how_many[value] = 1\n",
    "    else:\n",
    "        how_many[value] +=1\n",
    "how_many"
   ]
  },
  {
   "cell_type": "code",
   "execution_count": 124,
   "id": "c2231a86-5c8d-4dcc-b08d-9ac01601e8de",
   "metadata": {},
   "outputs": [
    {
     "data": {
      "text/plain": [
       "array([[1., 0., 0., 0., 0.],\n",
       "       [0., 1., 0., 0., 0.],\n",
       "       [0., 0., 1., 0., 0.],\n",
       "       [0., 0., 0., 1., 0.],\n",
       "       [0., 0., 0., 0., 1.]])"
      ]
     },
     "execution_count": 124,
     "metadata": {},
     "output_type": "execute_result"
    }
   ],
   "source": [
    "np.eye(5,5) #İdentity(birim) matrix oluşturmaya yarar."
   ]
  },
  {
   "cell_type": "code",
   "execution_count": 15,
   "id": "c23a6805-cc8d-467a-b4ec-b0c36362fe5a",
   "metadata": {},
   "outputs": [
    {
     "data": {
      "text/plain": [
       "array([1, 4, 9])"
      ]
     },
     "execution_count": 15,
     "metadata": {},
     "output_type": "execute_result"
    }
   ],
   "source": [
    "x1 = np.array([1,2,3])\n",
    "y1 = np.array([1,2,3])\n",
    "x1 * y1"
   ]
  },
  {
   "cell_type": "code",
   "execution_count": 21,
   "id": "45ff8da3-3151-4b33-bb67-2a445c7a49f2",
   "metadata": {},
   "outputs": [
    {
     "data": {
      "text/plain": [
       "array([3, 6, 9])"
      ]
     },
     "execution_count": 21,
     "metadata": {},
     "output_type": "execute_result"
    }
   ],
   "source": [
    "x1 * 3"
   ]
  },
  {
   "cell_type": "markdown",
   "id": "e11cc139-5d11-495f-ae47-72ee2bac76ec",
   "metadata": {},
   "source": [
    "# array attributes"
   ]
  },
  {
   "cell_type": "code",
   "execution_count": 29,
   "id": "b26066bb-a97e-412b-9062-1d3d40f2ca1f",
   "metadata": {},
   "outputs": [
    {
     "data": {
      "text/plain": [
       "array([[1, 2, 3],\n",
       "       [2, 3, 4]])"
      ]
     },
     "execution_count": 29,
     "metadata": {},
     "output_type": "execute_result"
    }
   ],
   "source": [
    "my_arr = np.array([[1,2,3],[2,3,4]])\n",
    "my_arr"
   ]
  },
  {
   "cell_type": "code",
   "execution_count": 38,
   "id": "bf0aed0b-d2bd-403c-a032-a69d72e5ef7c",
   "metadata": {},
   "outputs": [
    {
     "data": {
      "text/plain": [
       "(2, 3)"
      ]
     },
     "execution_count": 38,
     "metadata": {},
     "output_type": "execute_result"
    }
   ],
   "source": [
    "my_arr.shape"
   ]
  },
  {
   "cell_type": "code",
   "execution_count": 42,
   "id": "2cf27b35-917d-468e-97fa-5bfbf6df8efb",
   "metadata": {},
   "outputs": [
    {
     "data": {
      "text/plain": [
       "2"
      ]
     },
     "execution_count": 42,
     "metadata": {},
     "output_type": "execute_result"
    }
   ],
   "source": [
    "my_arr.ndim #kaç boyutlu olduğu"
   ]
  },
  {
   "cell_type": "code",
   "execution_count": 44,
   "id": "83820513-e2c9-4975-84ed-9338bdede5b7",
   "metadata": {},
   "outputs": [
    {
     "data": {
      "text/plain": [
       "6"
      ]
     },
     "execution_count": 44,
     "metadata": {},
     "output_type": "execute_result"
    }
   ],
   "source": [
    "my_arr.size"
   ]
  },
  {
   "cell_type": "code",
   "execution_count": 48,
   "id": "6f4f4c02-9ad5-4090-9668-cf8b0c46b5d1",
   "metadata": {},
   "outputs": [
    {
     "data": {
      "text/plain": [
       "dtype('int32')"
      ]
     },
     "execution_count": 48,
     "metadata": {},
     "output_type": "execute_result"
    }
   ],
   "source": [
    "my_arr.dtype"
   ]
  },
  {
   "cell_type": "code",
   "execution_count": 52,
   "id": "5271b248-8cb7-4b9d-847f-afbaae3ce2b6",
   "metadata": {},
   "outputs": [
    {
     "data": {
      "text/plain": [
       "array([ 1,  2,  3,  4,  5,  6,  7,  8,  9, 10])"
      ]
     },
     "execution_count": 52,
     "metadata": {},
     "output_type": "execute_result"
    }
   ],
   "source": [
    "my_arr2 = np.arange(1,11)\n",
    "my_arr2"
   ]
  },
  {
   "cell_type": "code",
   "execution_count": 56,
   "id": "175f79c1-b24a-4772-9a36-4c06ae6671ab",
   "metadata": {},
   "outputs": [
    {
     "data": {
      "text/plain": [
       "array([[ 1,  2,  3,  4,  5],\n",
       "       [ 6,  7,  8,  9, 10]])"
      ]
     },
     "execution_count": 56,
     "metadata": {},
     "output_type": "execute_result"
    }
   ],
   "source": [
    "my_arr2.reshape(2,5) #shape çarpımı size a eşit olmazsa hata alırım."
   ]
  },
  {
   "cell_type": "code",
   "execution_count": 58,
   "id": "e038c0fb-a6f4-4e50-9fb7-e92f141cb6c6",
   "metadata": {},
   "outputs": [
    {
     "data": {
      "text/plain": [
       "6"
      ]
     },
     "execution_count": 58,
     "metadata": {},
     "output_type": "execute_result"
    }
   ],
   "source": [
    "my_arr.size"
   ]
  },
  {
   "cell_type": "code",
   "execution_count": 64,
   "id": "3b50d782-8704-4874-ad79-424517cbe009",
   "metadata": {},
   "outputs": [
    {
     "data": {
      "text/plain": [
       "array([[1, 2],\n",
       "       [3, 2],\n",
       "       [3, 4]])"
      ]
     },
     "execution_count": 64,
     "metadata": {},
     "output_type": "execute_result"
    }
   ],
   "source": [
    "my_arr.reshape(-1,2) #Burada -1 değeri şu anlama gelir: x * 2 = array.size. x'i otomatik bulur numpy."
   ]
  },
  {
   "cell_type": "markdown",
   "id": "7c8dd302-8206-4332-a938-bd40ab9f8558",
   "metadata": {},
   "source": [
    "----------------------------------------------"
   ]
  },
  {
   "cell_type": "code",
   "execution_count": 72,
   "id": "10d4492f-6485-4cb9-a76a-87b075ca30aa",
   "metadata": {},
   "outputs": [
    {
     "data": {
      "text/plain": [
       "array([ 1,  2,  3,  4,  5,  6,  7,  8,  9, 10])"
      ]
     },
     "execution_count": 72,
     "metadata": {},
     "output_type": "execute_result"
    }
   ],
   "source": [
    "a = np.arange(1,11)\n",
    "a"
   ]
  },
  {
   "cell_type": "code",
   "execution_count": 74,
   "id": "8cd4524d-091d-43b3-951d-4f4e2ff7f310",
   "metadata": {},
   "outputs": [
    {
     "data": {
      "text/plain": [
       "array([[ 1,  2,  3,  4,  5,  6,  7,  8,  9, 10]])"
      ]
     },
     "execution_count": 74,
     "metadata": {},
     "output_type": "execute_result"
    }
   ],
   "source": [
    "a[np.newaxis, :]   #Bir tane row, 10 tane column olan bir yapıya çevirdi."
   ]
  },
  {
   "cell_type": "code",
   "execution_count": 76,
   "id": "38455ce7-6a1b-477d-ae8c-0988c9ed182e",
   "metadata": {},
   "outputs": [
    {
     "data": {
      "text/plain": [
       "array([[ 1],\n",
       "       [ 2],\n",
       "       [ 3],\n",
       "       [ 4],\n",
       "       [ 5],\n",
       "       [ 6],\n",
       "       [ 7],\n",
       "       [ 8],\n",
       "       [ 9],\n",
       "       [10]])"
      ]
     },
     "execution_count": 76,
     "metadata": {},
     "output_type": "execute_result"
    }
   ],
   "source": [
    "a[: , np.newaxis]"
   ]
  },
  {
   "cell_type": "code",
   "execution_count": 78,
   "id": "7c0d56ea-0473-48e4-ba96-bad8dfb1627f",
   "metadata": {},
   "outputs": [
    {
     "data": {
      "text/plain": [
       "array([[ 1,  2,  3,  4,  5,  6,  7,  8,  9, 10]])"
      ]
     },
     "execution_count": 78,
     "metadata": {},
     "output_type": "execute_result"
    }
   ],
   "source": [
    "a[None, :] #np, newaxis ile aynı işlemi yapar"
   ]
  },
  {
   "cell_type": "code",
   "execution_count": 80,
   "id": "93e773b2-a5ac-4969-8469-8e916e738d4e",
   "metadata": {},
   "outputs": [
    {
     "data": {
      "text/plain": [
       "array([[ 1],\n",
       "       [ 2],\n",
       "       [ 3],\n",
       "       [ 4],\n",
       "       [ 5],\n",
       "       [ 6],\n",
       "       [ 7],\n",
       "       [ 8],\n",
       "       [ 9],\n",
       "       [10]])"
      ]
     },
     "execution_count": 80,
     "metadata": {},
     "output_type": "execute_result"
    }
   ],
   "source": [
    "a[:, None] #np, newaxis ile aynı işlemi yapar"
   ]
  },
  {
   "cell_type": "markdown",
   "id": "36a0ceb8-8f5e-479e-bc6b-9f7fb849f2be",
   "metadata": {},
   "source": [
    "# concatenation"
   ]
  },
  {
   "cell_type": "code",
   "execution_count": 204,
   "id": "42772801-aaed-425a-8e7d-e26d9bb4e8e0",
   "metadata": {},
   "outputs": [],
   "source": [
    "a = np.array([1,2,3])"
   ]
  },
  {
   "cell_type": "code",
   "execution_count": 86,
   "id": "2f8556d9-1b39-4a85-8d83-8a2ddf2dc42f",
   "metadata": {},
   "outputs": [],
   "source": [
    "b = np.array([4,5,6])"
   ]
  },
  {
   "cell_type": "code",
   "execution_count": 88,
   "id": "9a005e4f-3058-4f79-8c6c-52150b6ea500",
   "metadata": {},
   "outputs": [
    {
     "data": {
      "text/plain": [
       "array([5, 7, 9])"
      ]
     },
     "execution_count": 88,
     "metadata": {},
     "output_type": "execute_result"
    }
   ],
   "source": [
    "a + b"
   ]
  },
  {
   "cell_type": "code",
   "execution_count": 108,
   "id": "cc0a9c0a-621a-4c95-b3e1-e024e8e23fab",
   "metadata": {},
   "outputs": [
    {
     "data": {
      "text/plain": [
       "array([[1, 2, 3],\n",
       "       [4, 5, 6]])"
      ]
     },
     "execution_count": 108,
     "metadata": {},
     "output_type": "execute_result"
    }
   ],
   "source": [
    "np.concatenate([a,b]).reshape(2,3)"
   ]
  },
  {
   "cell_type": "code",
   "execution_count": 110,
   "id": "60220900-a76a-46f1-9d65-58412a2a5150",
   "metadata": {},
   "outputs": [],
   "source": [
    "my_list = [7,8,9]"
   ]
  },
  {
   "cell_type": "code",
   "execution_count": 112,
   "id": "61226391-0dd6-400f-8ac3-62fe32ce7cea",
   "metadata": {},
   "outputs": [
    {
     "data": {
      "text/plain": [
       "array([1, 2, 3, 4, 5, 6, 7, 8, 9])"
      ]
     },
     "execution_count": 112,
     "metadata": {},
     "output_type": "execute_result"
    }
   ],
   "source": [
    "np.concatenate([a,b,my_list])"
   ]
  },
  {
   "cell_type": "markdown",
   "id": "ee07a77c-5c2e-42e0-b3e9-96e045762e66",
   "metadata": {},
   "source": [
    "# size mismatch"
   ]
  },
  {
   "cell_type": "code",
   "execution_count": 117,
   "id": "fffa8670-d424-4281-bc0c-bc5eeed7b1aa",
   "metadata": {},
   "outputs": [],
   "source": [
    "a = np.array([1,2,3])"
   ]
  },
  {
   "cell_type": "code",
   "execution_count": 119,
   "id": "51a865a5-c1d9-4e92-9674-8073a121d15e",
   "metadata": {},
   "outputs": [],
   "source": [
    "x = np.array([[4,5,6],[7,8,9]])"
   ]
  },
  {
   "cell_type": "code",
   "execution_count": 123,
   "id": "50cd03c0-de50-4312-af2a-33ad48c783ea",
   "metadata": {},
   "outputs": [
    {
     "ename": "ValueError",
     "evalue": "all the input arrays must have same number of dimensions, but the array at index 0 has 1 dimension(s) and the array at index 1 has 2 dimension(s)",
     "output_type": "error",
     "traceback": [
      "\u001b[1;31m---------------------------------------------------------------------------\u001b[0m",
      "\u001b[1;31mValueError\u001b[0m                                Traceback (most recent call last)",
      "Cell \u001b[1;32mIn[123], line 1\u001b[0m\n\u001b[1;32m----> 1\u001b[0m np\u001b[38;5;241m.\u001b[39mconcatenate([a,x])\n",
      "\u001b[1;31mValueError\u001b[0m: all the input arrays must have same number of dimensions, but the array at index 0 has 1 dimension(s) and the array at index 1 has 2 dimension(s)"
     ]
    }
   ],
   "source": [
    "np.concatenate([a,x])  #Dimensionları farklı olduğu için hata alırım."
   ]
  },
  {
   "cell_type": "code",
   "execution_count": 125,
   "id": "802f09b8-17df-4ff6-b3fd-7db76b1f022b",
   "metadata": {},
   "outputs": [
    {
     "data": {
      "text/plain": [
       "array([[4, 5, 6],\n",
       "       [7, 8, 9],\n",
       "       [4, 5, 6],\n",
       "       [7, 8, 9]])"
      ]
     },
     "execution_count": 125,
     "metadata": {},
     "output_type": "execute_result"
    }
   ],
   "source": [
    "np.concatenate([x,x])"
   ]
  },
  {
   "cell_type": "code",
   "execution_count": 141,
   "id": "9fac3701-c1b4-47d5-8555-ffe97ee22ffe",
   "metadata": {},
   "outputs": [
    {
     "data": {
      "text/plain": [
       "array([[4, 5, 6],\n",
       "       [7, 8, 9],\n",
       "       [4, 5, 6],\n",
       "       [7, 8, 9]])"
      ]
     },
     "execution_count": 141,
     "metadata": {},
     "output_type": "execute_result"
    }
   ],
   "source": [
    "np.concatenate([x,x], axis=0).shape # axis=0 dikey doğrultuda birleştirme anlamına gelir."
   ]
  },
  {
   "cell_type": "code",
   "execution_count": 135,
   "id": "4328b2b7-5b06-4df1-a6a7-14ef5a1d0a69",
   "metadata": {},
   "outputs": [
    {
     "data": {
      "text/plain": [
       "array([[4, 5, 6, 4, 5, 6],\n",
       "       [7, 8, 9, 7, 8, 9]])"
      ]
     },
     "execution_count": 135,
     "metadata": {},
     "output_type": "execute_result"
    }
   ],
   "source": [
    "np.concatenate([x,x], axis = 1) # axis=1 yatay doğrultuda birleştirme anlamına gelir."
   ]
  },
  {
   "cell_type": "code",
   "execution_count": 149,
   "id": "103dcd37-b150-41df-86e1-34b092cf8ec2",
   "metadata": {},
   "outputs": [
    {
     "data": {
      "text/plain": [
       "array([1, 2, 3, 4, 5, 6])"
      ]
     },
     "execution_count": 149,
     "metadata": {},
     "output_type": "execute_result"
    }
   ],
   "source": [
    "np.concatenate([a,b], axis=0)"
   ]
  },
  {
   "cell_type": "code",
   "execution_count": 155,
   "id": "87166796-e4f0-49d0-ae2f-b9a0cbb607cf",
   "metadata": {},
   "outputs": [
    {
     "ename": "AxisError",
     "evalue": "axis 1 is out of bounds for array of dimension 1",
     "output_type": "error",
     "traceback": [
      "\u001b[1;31m---------------------------------------------------------------------------\u001b[0m",
      "\u001b[1;31mAxisError\u001b[0m                                 Traceback (most recent call last)",
      "Cell \u001b[1;32mIn[155], line 1\u001b[0m\n\u001b[1;32m----> 1\u001b[0m np\u001b[38;5;241m.\u001b[39mconcatenate([a,b], axis\u001b[38;5;241m=\u001b[39m\u001b[38;5;241m1\u001b[39m)\n",
      "\u001b[1;31mAxisError\u001b[0m: axis 1 is out of bounds for array of dimension 1"
     ]
    }
   ],
   "source": [
    "np.concatenate([a,b], axis=1) #axis=1 dediğimizde hata alırız. Çünkü numeric dizi bunlar, dimension a sahip değiller."
   ]
  },
  {
   "cell_type": "code",
   "execution_count": 167,
   "id": "ed17c748-e989-40b0-bff9-61fa90e8c200",
   "metadata": {},
   "outputs": [
    {
     "data": {
      "text/plain": [
       "array([[1, 4],\n",
       "       [2, 5],\n",
       "       [3, 6]])"
      ]
     },
     "execution_count": 167,
     "metadata": {},
     "output_type": "execute_result"
    }
   ],
   "source": [
    "np.stack([a,b])  #şimdi hata almadım. Çünkü stack yeni dimension yaratıp onun üzerinde ekleme yapıyor."
   ]
  },
  {
   "cell_type": "markdown",
   "id": "8e25f538-f338-4c0b-b677-a2d7fb93a354",
   "metadata": {},
   "source": [
    "# splitting\n",
    "Arrayleri, listeleri bölmeye yarar, sonuç array olarak döner."
   ]
  },
  {
   "cell_type": "code",
   "execution_count": 173,
   "id": "b1a38e2e-cc0e-493a-bb44-8d191fac84d7",
   "metadata": {},
   "outputs": [],
   "source": [
    "my_list = [1,2,3,4,5,6,7,8,9,10]"
   ]
  },
  {
   "cell_type": "code",
   "execution_count": 187,
   "id": "facc38b5-a969-4ddb-8759-a1630a424c88",
   "metadata": {},
   "outputs": [
    {
     "data": {
      "text/plain": [
       "[array([1, 2]), array([ 3,  4,  5,  6,  7,  8,  9, 10])]"
      ]
     },
     "execution_count": 187,
     "metadata": {},
     "output_type": "execute_result"
    }
   ],
   "source": [
    "np.split(my_list, [2])"
   ]
  },
  {
   "cell_type": "code",
   "execution_count": 189,
   "id": "319a2686-76b7-40b2-9a92-748abaf12887",
   "metadata": {},
   "outputs": [
    {
     "data": {
      "text/plain": [
       "[array([1, 2]), array([3, 4, 5]), array([ 6,  7,  8,  9, 10])]"
      ]
     },
     "execution_count": 189,
     "metadata": {},
     "output_type": "execute_result"
    }
   ],
   "source": [
    "np.split(my_list, [2,5])"
   ]
  },
  {
   "cell_type": "code",
   "execution_count": 195,
   "id": "fd59326d-3cef-4bba-8240-38a0f18b018e",
   "metadata": {},
   "outputs": [
    {
     "data": {
      "text/plain": [
       "[array([1, 2]), array([3])]"
      ]
     },
     "execution_count": 195,
     "metadata": {},
     "output_type": "execute_result"
    }
   ],
   "source": [
    "np.split(a, [2])"
   ]
  },
  {
   "cell_type": "code",
   "execution_count": 198,
   "id": "53ac7c62-6d2d-4e89-bc64-8883e6e8f8ad",
   "metadata": {},
   "outputs": [],
   "source": [
    "# Splitin sonucunu birden çok değere eşitleme "
   ]
  },
  {
   "cell_type": "code",
   "execution_count": 206,
   "id": "cbd82962-50b4-4d2e-b84e-bebd82982dc8",
   "metadata": {},
   "outputs": [],
   "source": [
    "a_int, b_int = (1,2)"
   ]
  },
  {
   "cell_type": "code",
   "execution_count": 214,
   "id": "d38c110e-f2c5-4ba8-af8c-a9a0cb0f8957",
   "metadata": {},
   "outputs": [
    {
     "data": {
      "text/plain": [
       "(array([1, 2, 3]), array([1, 2]), array([3]))"
      ]
     },
     "execution_count": 214,
     "metadata": {},
     "output_type": "execute_result"
    }
   ],
   "source": [
    "a_arr , b_arr = np.split(a, [2])\n",
    "a, a_arr, b_arr"
   ]
  },
  {
   "cell_type": "markdown",
   "id": "0b321956-b8ff-417e-90af-0afe8e1a7fb3",
   "metadata": {},
   "source": [
    "# vsplit"
   ]
  },
  {
   "cell_type": "code",
   "execution_count": 226,
   "id": "2a01472d-bb62-41ef-ba4b-f09d041e708f",
   "metadata": {},
   "outputs": [
    {
     "data": {
      "text/plain": [
       "array([[ 0,  1,  2],\n",
       "       [ 3,  4,  5],\n",
       "       [ 6,  7,  8],\n",
       "       [ 9, 10, 11],\n",
       "       [12, 13, 14]])"
      ]
     },
     "execution_count": 226,
     "metadata": {},
     "output_type": "execute_result"
    }
   ],
   "source": [
    "t = np.arange(15).reshape(5,3)\n",
    "t"
   ]
  },
  {
   "cell_type": "code",
   "execution_count": 228,
   "id": "83034391-8de0-4757-8f0c-a85cc4eedc9e",
   "metadata": {},
   "outputs": [
    {
     "data": {
      "text/plain": [
       "[array([[0, 1, 2]]),\n",
       " array([[ 3,  4,  5],\n",
       "        [ 6,  7,  8],\n",
       "        [ 9, 10, 11],\n",
       "        [12, 13, 14]])]"
      ]
     },
     "execution_count": 228,
     "metadata": {},
     "output_type": "execute_result"
    }
   ],
   "source": [
    "np.vsplit(t, [1])   #rowları index olarak sayar."
   ]
  },
  {
   "cell_type": "markdown",
   "id": "837fc98e-871c-45cd-bed3-c036a52fbbbc",
   "metadata": {},
   "source": [
    "# hsplit "
   ]
  },
  {
   "cell_type": "code",
   "execution_count": 238,
   "id": "3aa96e7d-e967-4e91-ae1b-3745f585a32d",
   "metadata": {},
   "outputs": [
    {
     "data": {
      "text/plain": [
       "[array([[ 0],\n",
       "        [ 3],\n",
       "        [ 6],\n",
       "        [ 9],\n",
       "        [12]]),\n",
       " array([[ 1,  2],\n",
       "        [ 4,  5],\n",
       "        [ 7,  8],\n",
       "        [10, 11],\n",
       "        [13, 14]])]"
      ]
     },
     "execution_count": 238,
     "metadata": {},
     "output_type": "execute_result"
    }
   ],
   "source": [
    "np.hsplit(t, [1])  #cloumnları index olarak sayar."
   ]
  },
  {
   "cell_type": "markdown",
   "id": "8d83560b-737c-4eda-b1b9-159c4f1b71ca",
   "metadata": {},
   "source": [
    "# sorting"
   ]
  },
  {
   "cell_type": "code",
   "execution_count": 276,
   "id": "1024b6d2-3707-4654-b552-61cb232d416f",
   "metadata": {},
   "outputs": [],
   "source": [
    "t = np.array([1,5,3,1,4543,12,14])"
   ]
  },
  {
   "cell_type": "code",
   "execution_count": 278,
   "id": "5df6763f-3e0f-4170-ad20-ad20e0bfe0a6",
   "metadata": {},
   "outputs": [],
   "source": [
    "t = t.reshape(1,t.size)"
   ]
  },
  {
   "cell_type": "code",
   "execution_count": 280,
   "id": "4bdb1207-d18f-49bf-83d8-70cbe0bd50ae",
   "metadata": {},
   "outputs": [
    {
     "data": {
      "text/plain": [
       "array([[   1,    5,    3,    1, 4543,   12,   14]])"
      ]
     },
     "execution_count": 280,
     "metadata": {},
     "output_type": "execute_result"
    }
   ],
   "source": [
    "t"
   ]
  },
  {
   "cell_type": "code",
   "execution_count": 292,
   "id": "1bc4beb8-4fd7-4eff-9b73-ea08266b8cb6",
   "metadata": {},
   "outputs": [
    {
     "data": {
      "text/plain": [
       "array([[   1,    1,    3,    5,   12,   14, 4543]])"
      ]
     },
     "execution_count": 292,
     "metadata": {},
     "output_type": "execute_result"
    }
   ],
   "source": [
    "np.sort(t) #inplace etmez yani t aynı kalır"
   ]
  },
  {
   "cell_type": "code",
   "execution_count": 294,
   "id": "d31d6899-ca6e-4942-90f0-bd85804adc29",
   "metadata": {},
   "outputs": [
    {
     "data": {
      "text/plain": [
       "array([[   1,    5,    3,    1, 4543,   12,   14]])"
      ]
     },
     "execution_count": 294,
     "metadata": {},
     "output_type": "execute_result"
    }
   ],
   "source": [
    "t"
   ]
  },
  {
   "cell_type": "code",
   "execution_count": 296,
   "id": "cb6cc0f6-88d5-4c18-a3dc-8b81f4bd3a59",
   "metadata": {},
   "outputs": [],
   "source": [
    "t.sort() # inplace eder yani t = np.sort(t) ifadesine eş değer"
   ]
  },
  {
   "cell_type": "code",
   "execution_count": 298,
   "id": "96e9b058-4748-4492-87f6-dfe875467c8c",
   "metadata": {},
   "outputs": [
    {
     "data": {
      "text/plain": [
       "array([[   1,    1,    3,    5,   12,   14, 4543]])"
      ]
     },
     "execution_count": 298,
     "metadata": {},
     "output_type": "execute_result"
    }
   ],
   "source": [
    "t"
   ]
  },
  {
   "cell_type": "markdown",
   "id": "5f17bb7d-c103-4b17-a1c9-ed8f9c5cad0f",
   "metadata": {},
   "source": [
    "# argsort"
   ]
  },
  {
   "cell_type": "code",
   "execution_count": 302,
   "id": "435b6d47-218a-45a9-946d-5624850b4af5",
   "metadata": {},
   "outputs": [],
   "source": [
    "t = np.array([1,5,3,1,4543,12,14])"
   ]
  },
  {
   "cell_type": "code",
   "execution_count": 306,
   "id": "c9bdeeb5-6ce6-42a1-9174-98a2c98a14f7",
   "metadata": {},
   "outputs": [
    {
     "data": {
      "text/plain": [
       "array([0, 3, 2, 1, 5, 6, 4], dtype=int64)"
      ]
     },
     "execution_count": 306,
     "metadata": {},
     "output_type": "execute_result"
    }
   ],
   "source": [
    "np.argsort(t) # t'yi sıralar ama  küçükten büyüğe sıralanmış şeylerin indexlerini verir."
   ]
  },
  {
   "cell_type": "markdown",
   "id": "e914ce25-6905-4645-a015-af2b62bf007f",
   "metadata": {},
   "source": [
    "# multidimensional arraylerde indexleme\n",
    "Ne kadar boyut varsa bir elemanın konumunu bulmak için o kadar bilgi vermek lazım."
   ]
  },
  {
   "cell_type": "code",
   "execution_count": 330,
   "id": "8c90851e-8957-4bf5-bf80-38e21744314c",
   "metadata": {},
   "outputs": [
    {
     "data": {
      "text/plain": [
       "array([[ 1,  2,  3,  4,  5],\n",
       "       [ 6,  7,  8,  9, 10],\n",
       "       [11, 12, 13, 14, 15],\n",
       "       [16, 17, 18, 19, 20]])"
      ]
     },
     "execution_count": 330,
     "metadata": {},
     "output_type": "execute_result"
    }
   ],
   "source": [
    "md_array = np.arange(1,21).reshape(4,5)\n",
    "md_array"
   ]
  },
  {
   "cell_type": "code",
   "execution_count": 347,
   "id": "3c4ae1c1-554a-4d07-be1a-8a175653535d",
   "metadata": {},
   "outputs": [
    {
     "data": {
      "text/plain": [
       "array([1, 2, 3, 4, 5])"
      ]
     },
     "execution_count": 347,
     "metadata": {},
     "output_type": "execute_result"
    }
   ],
   "source": [
    "md_array[0]"
   ]
  },
  {
   "cell_type": "code",
   "execution_count": 349,
   "id": "5706933d-8dba-4447-8eb8-57ecf7a86062",
   "metadata": {},
   "outputs": [
    {
     "data": {
      "text/plain": [
       "8"
      ]
     },
     "execution_count": 349,
     "metadata": {},
     "output_type": "execute_result"
    }
   ],
   "source": [
    "md_array[1,2]"
   ]
  },
  {
   "cell_type": "code",
   "execution_count": 357,
   "id": "b8817e1b-a4a5-4603-ae10-23ae25c2cf0a",
   "metadata": {},
   "outputs": [],
   "source": [
    "md_array[1,2] = 3 #arrayyler mutabledır."
   ]
  },
  {
   "cell_type": "code",
   "execution_count": 353,
   "id": "91555a2b-9ebb-4523-874b-c284ba43c6a6",
   "metadata": {},
   "outputs": [
    {
     "data": {
      "text/plain": [
       "array([[ 1,  2,  3,  4,  5],\n",
       "       [ 6,  7,  3,  9, 10],\n",
       "       [11, 12, 13, 14, 15],\n",
       "       [16, 17, 18, 19, 20]])"
      ]
     },
     "execution_count": 353,
     "metadata": {},
     "output_type": "execute_result"
    }
   ],
   "source": [
    "md_array"
   ]
  },
  {
   "cell_type": "code",
   "execution_count": 355,
   "id": "545d6913-c387-4f62-a162-8f9bae5b323f",
   "metadata": {},
   "outputs": [
    {
     "data": {
      "text/plain": [
       "array([[ 1,  2,  3,  4,  5],\n",
       "       [ 6,  7,  3,  9, 10]])"
      ]
     },
     "execution_count": 355,
     "metadata": {},
     "output_type": "execute_result"
    }
   ],
   "source": [
    "md_array[0:2]"
   ]
  },
  {
   "cell_type": "code",
   "execution_count": 359,
   "id": "b1456536-1642-45dc-a987-4fbb281fad8b",
   "metadata": {},
   "outputs": [
    {
     "data": {
      "text/plain": [
       "array([ 3,  3, 13, 18])"
      ]
     },
     "execution_count": 359,
     "metadata": {},
     "output_type": "execute_result"
    }
   ],
   "source": [
    "md_array[:,2]"
   ]
  },
  {
   "cell_type": "markdown",
   "id": "0723b547-d419-4f66-970c-376e73315aee",
   "metadata": {},
   "source": [
    "# fancy indexing\n",
    "Birbirinden bağımsız farklı indexteki elemanları getirmeye yarar."
   ]
  },
  {
   "cell_type": "code",
   "execution_count": 399,
   "id": "fc37e78a-5de7-4833-bff8-8985f503c226",
   "metadata": {},
   "outputs": [],
   "source": [
    "x = np.arange(1,16).reshape(5,3)"
   ]
  },
  {
   "cell_type": "code",
   "execution_count": 401,
   "id": "1a573568-4c5f-44f9-be85-a45b7bad211b",
   "metadata": {},
   "outputs": [
    {
     "data": {
      "text/plain": [
       "array([[ 1,  2,  3],\n",
       "       [ 4,  5,  6],\n",
       "       [ 7,  8,  9],\n",
       "       [10, 11, 12],\n",
       "       [13, 14, 15]])"
      ]
     },
     "execution_count": 401,
     "metadata": {},
     "output_type": "execute_result"
    }
   ],
   "source": [
    "x"
   ]
  },
  {
   "cell_type": "code",
   "execution_count": 407,
   "id": "4df91975-f0ef-4ece-8578-a3214d1b1905",
   "metadata": {},
   "outputs": [],
   "source": [
    "idxs = [2,4]  #İstediğimiz index öbekleri\n",
    "idxs2 = [0,2]"
   ]
  },
  {
   "cell_type": "code",
   "execution_count": 411,
   "id": "f3779eb2-6814-4d18-884c-da0901146765",
   "metadata": {},
   "outputs": [
    {
     "data": {
      "text/plain": [
       "array([[ 7,  8,  9],\n",
       "       [13, 14, 15]])"
      ]
     },
     "execution_count": 411,
     "metadata": {},
     "output_type": "execute_result"
    }
   ],
   "source": [
    "x[idxs]  "
   ]
  },
  {
   "cell_type": "code",
   "execution_count": 415,
   "id": "3e1f023c-1c52-4f24-94e7-128d216edd6f",
   "metadata": {},
   "outputs": [
    {
     "data": {
      "text/plain": [
       "array([ 7, 15])"
      ]
     },
     "execution_count": 415,
     "metadata": {},
     "output_type": "execute_result"
    }
   ],
   "source": [
    "x[idxs,idxs2]  # [2,0] ve [4,2] indexlerindeki değerleri verir."
   ]
  },
  {
   "cell_type": "code",
   "execution_count": 417,
   "id": "d15eb35f-0827-4d7c-bbf8-fe6a12aebd1a",
   "metadata": {},
   "outputs": [],
   "source": [
    "x[idxs]  = 0"
   ]
  },
  {
   "cell_type": "code",
   "execution_count": 419,
   "id": "1c5ae4ab-d0f5-4c12-8af8-3b509c790ebf",
   "metadata": {},
   "outputs": [
    {
     "data": {
      "text/plain": [
       "array([[ 1,  2,  3],\n",
       "       [ 4,  5,  6],\n",
       "       [ 0,  0,  0],\n",
       "       [10, 11, 12],\n",
       "       [ 0,  0,  0]])"
      ]
     },
     "execution_count": 419,
     "metadata": {},
     "output_type": "execute_result"
    }
   ],
   "source": [
    "x"
   ]
  },
  {
   "cell_type": "code",
   "execution_count": 439,
   "id": "5961a65b-88b7-4b59-8f14-c60cf3166d4b",
   "metadata": {},
   "outputs": [
    {
     "data": {
      "text/plain": [
       "1"
      ]
     },
     "execution_count": 439,
     "metadata": {},
     "output_type": "execute_result"
    }
   ],
   "source": [
    "a=np.arange(1,13).reshape(3,4) \n",
    "b=a[1,(1,3)] \n",
    "b.ndim"
   ]
  },
  {
   "cell_type": "markdown",
   "id": "d5795940-de0f-4147-a06c-c336b0956a51",
   "metadata": {},
   "source": [
    "# subarray"
   ]
  },
  {
   "cell_type": "code",
   "execution_count": 452,
   "id": "99dd8945-0971-41df-83e9-c82e6901577c",
   "metadata": {},
   "outputs": [],
   "source": [
    "arr = np.arange(1,21).reshape(4,5)"
   ]
  },
  {
   "cell_type": "code",
   "execution_count": 454,
   "id": "88a3e78d-a2fc-4196-a706-a5fbec117218",
   "metadata": {},
   "outputs": [
    {
     "data": {
      "text/plain": [
       "array([[ 1,  2,  3,  4,  5],\n",
       "       [ 6,  7,  8,  9, 10],\n",
       "       [11, 12, 13, 14, 15],\n",
       "       [16, 17, 18, 19, 20]])"
      ]
     },
     "execution_count": 454,
     "metadata": {},
     "output_type": "execute_result"
    }
   ],
   "source": [
    "arr"
   ]
  },
  {
   "cell_type": "code",
   "execution_count": 462,
   "id": "d472e829-500d-42c9-9878-8b5c0d7198d3",
   "metadata": {},
   "outputs": [
    {
     "data": {
      "text/plain": [
       "array([[1, 2, 3],\n",
       "       [6, 7, 8]])"
      ]
     },
     "execution_count": 462,
     "metadata": {},
     "output_type": "execute_result"
    }
   ],
   "source": [
    "sub_arr = arr[:2,:3]\n",
    "sub_arr"
   ]
  },
  {
   "cell_type": "code",
   "execution_count": 464,
   "id": "98bd203b-9a24-4fb1-97cd-4b9a21b8fb2c",
   "metadata": {},
   "outputs": [],
   "source": [
    "sub_arr[0,0] = 100"
   ]
  },
  {
   "cell_type": "code",
   "execution_count": 466,
   "id": "ea8f9bc3-476b-4653-b1fe-c0040dd16cc8",
   "metadata": {},
   "outputs": [
    {
     "data": {
      "text/plain": [
       "array([[100,   2,   3,   4,   5],\n",
       "       [  6,   7,   8,   9,  10],\n",
       "       [ 11,  12,  13,  14,  15],\n",
       "       [ 16,  17,  18,  19,  20]])"
      ]
     },
     "execution_count": 466,
     "metadata": {},
     "output_type": "execute_result"
    }
   ],
   "source": [
    "arr #sub_arr ve arr belleğin aynı yerini kullanır."
   ]
  },
  {
   "cell_type": "code",
   "execution_count": 468,
   "id": "39465a25-1665-4008-b4b7-d6409dfe10d2",
   "metadata": {},
   "outputs": [
    {
     "data": {
      "text/plain": [
       "array([[100,   2,   3],\n",
       "       [  6,   7,   8]])"
      ]
     },
     "execution_count": 468,
     "metadata": {},
     "output_type": "execute_result"
    }
   ],
   "source": [
    "sub_arr"
   ]
  },
  {
   "cell_type": "code",
   "execution_count": 472,
   "id": "2b1ec1bd-97c8-4204-bd06-f6c1178d6874",
   "metadata": {},
   "outputs": [
    {
     "data": {
      "text/plain": [
       "array([[100,   2,   3],\n",
       "       [  6,   7,   8]])"
      ]
     },
     "execution_count": 472,
     "metadata": {},
     "output_type": "execute_result"
    }
   ],
   "source": [
    "copy_arr = arr[:2,:3].copy()\n",
    "copy_arr"
   ]
  },
  {
   "cell_type": "code",
   "execution_count": 476,
   "id": "58eb7cab-d6c4-40e2-a686-f817d114af30",
   "metadata": {},
   "outputs": [
    {
     "data": {
      "text/plain": [
       "100"
      ]
     },
     "execution_count": 476,
     "metadata": {},
     "output_type": "execute_result"
    }
   ],
   "source": [
    "copy_arr[0,0]"
   ]
  },
  {
   "cell_type": "code",
   "execution_count": 478,
   "id": "b3b1a493-986a-4a93-9db8-b9bc77045dcc",
   "metadata": {},
   "outputs": [],
   "source": [
    "copy_arr[0,0] = 1"
   ]
  },
  {
   "cell_type": "code",
   "execution_count": 480,
   "id": "5f451376-1e4e-4928-82c1-b7531ccfba2d",
   "metadata": {},
   "outputs": [
    {
     "data": {
      "text/plain": [
       "array([[100,   2,   3,   4,   5],\n",
       "       [  6,   7,   8,   9,  10],\n",
       "       [ 11,  12,  13,  14,  15],\n",
       "       [ 16,  17,  18,  19,  20]])"
      ]
     },
     "execution_count": 480,
     "metadata": {},
     "output_type": "execute_result"
    }
   ],
   "source": [
    "arr"
   ]
  },
  {
   "cell_type": "code",
   "execution_count": 482,
   "id": "82cc0d42-5399-4210-a3a0-076ead657459",
   "metadata": {},
   "outputs": [
    {
     "data": {
      "text/plain": [
       "array([[1, 2, 3],\n",
       "       [6, 7, 8]])"
      ]
     },
     "execution_count": 482,
     "metadata": {},
     "output_type": "execute_result"
    }
   ],
   "source": [
    "copy_arr"
   ]
  },
  {
   "cell_type": "markdown",
   "id": "cdd60aff-bb39-44a6-84e6-4c3009fb2031",
   "metadata": {},
   "source": [
    "# conditional indexing"
   ]
  },
  {
   "cell_type": "code",
   "execution_count": 489,
   "id": "9cb7f766-b180-473f-a133-e653be2056f4",
   "metadata": {},
   "outputs": [],
   "source": [
    "a = np.arange(1,11)"
   ]
  },
  {
   "cell_type": "code",
   "execution_count": 491,
   "id": "6821cad3-5aa1-49dd-817c-fc8e508adf9c",
   "metadata": {},
   "outputs": [
    {
     "data": {
      "text/plain": [
       "array([ 1,  2,  3,  4,  5,  6,  7,  8,  9, 10])"
      ]
     },
     "execution_count": 491,
     "metadata": {},
     "output_type": "execute_result"
    }
   ],
   "source": [
    "a"
   ]
  },
  {
   "cell_type": "code",
   "execution_count": 496,
   "id": "c76e6ca7-d59d-4eab-88d3-5448b66658fc",
   "metadata": {},
   "outputs": [
    {
     "data": {
      "text/plain": [
       "array([ True,  True,  True,  True, False, False, False, False, False,\n",
       "       False])"
      ]
     },
     "execution_count": 496,
     "metadata": {},
     "output_type": "execute_result"
    }
   ],
   "source": [
    "a < 5"
   ]
  },
  {
   "cell_type": "code",
   "execution_count": 498,
   "id": "aa00ab28-2ed3-4f9f-aa4e-998670373b1b",
   "metadata": {},
   "outputs": [
    {
     "data": {
      "text/plain": [
       "array([1, 2, 3, 4])"
      ]
     },
     "execution_count": 498,
     "metadata": {},
     "output_type": "execute_result"
    }
   ],
   "source": [
    "a[a<5]"
   ]
  },
  {
   "cell_type": "code",
   "execution_count": 525,
   "id": "31c3d420-e879-42b0-900c-a1dbdcdfedcd",
   "metadata": {},
   "outputs": [],
   "source": [
    "filt = a < 5"
   ]
  },
  {
   "cell_type": "code",
   "execution_count": 527,
   "id": "5bf6988a-f850-4c19-a25b-5786ebbcf042",
   "metadata": {},
   "outputs": [
    {
     "data": {
      "text/plain": [
       "array([1, 2, 3, 4])"
      ]
     },
     "execution_count": 527,
     "metadata": {},
     "output_type": "execute_result"
    }
   ],
   "source": [
    "a[filt]"
   ]
  },
  {
   "cell_type": "code",
   "execution_count": 537,
   "id": "785accef-dc62-4807-9ab3-f0a3dc627b78",
   "metadata": {},
   "outputs": [],
   "source": [
    "b = np.array([2,3,4,5,7,8,96,88,9,1])"
   ]
  },
  {
   "cell_type": "code",
   "execution_count": 539,
   "id": "3cb5d5e6-37fb-4738-89d3-7bdbd8e84a68",
   "metadata": {},
   "outputs": [
    {
     "data": {
      "text/plain": [
       "array([False, False, False, False, False, False, False, False,  True,\n",
       "       False])"
      ]
     },
     "execution_count": 539,
     "metadata": {},
     "output_type": "execute_result"
    }
   ],
   "source": [
    "a == b"
   ]
  },
  {
   "cell_type": "code",
   "execution_count": 541,
   "id": "c46781c1-7744-4fff-b5bd-6293e612ffad",
   "metadata": {},
   "outputs": [
    {
     "data": {
      "text/plain": [
       "array([9])"
      ]
     },
     "execution_count": 541,
     "metadata": {},
     "output_type": "execute_result"
    }
   ],
   "source": [
    "a[a==b]"
   ]
  },
  {
   "cell_type": "code",
   "execution_count": 543,
   "id": "e454665b-0950-4127-8e0a-83f1acd05716",
   "metadata": {},
   "outputs": [
    {
     "ename": "ValueError",
     "evalue": "The truth value of an array with more than one element is ambiguous. Use a.any() or a.all()",
     "output_type": "error",
     "traceback": [
      "\u001b[1;31m---------------------------------------------------------------------------\u001b[0m",
      "\u001b[1;31mValueError\u001b[0m                                Traceback (most recent call last)",
      "Cell \u001b[1;32mIn[543], line 1\u001b[0m\n\u001b[1;32m----> 1\u001b[0m (a\u001b[38;5;241m<\u001b[39m\u001b[38;5;241m3\u001b[39m) \u001b[38;5;129;01mor\u001b[39;00m (a\u001b[38;5;241m>\u001b[39m\u001b[38;5;241m5\u001b[39m)\n",
      "\u001b[1;31mValueError\u001b[0m: The truth value of an array with more than one element is ambiguous. Use a.any() or a.all()"
     ]
    }
   ],
   "source": [
    "(a<3) or (a>5) #and, or condition sözcüklerini numpyda bu amaçla kullanamıyoruz  "
   ]
  },
  {
   "cell_type": "code",
   "execution_count": 545,
   "id": "6ab65c27-c144-4a24-a832-5afa92093ce1",
   "metadata": {},
   "outputs": [
    {
     "data": {
      "text/plain": [
       "array([ True,  True, False, False, False,  True,  True,  True,  True,\n",
       "        True])"
      ]
     },
     "execution_count": 545,
     "metadata": {},
     "output_type": "execute_result"
    }
   ],
   "source": [
    "(a<3) | (a>5)"
   ]
  },
  {
   "cell_type": "code",
   "execution_count": 547,
   "id": "d645be4b-8a57-4cc1-b358-4f841d8f3b26",
   "metadata": {},
   "outputs": [],
   "source": [
    "filt = (a<3) | (a>5)"
   ]
  },
  {
   "cell_type": "code",
   "execution_count": 549,
   "id": "4a8ce5c8-a840-453c-93ba-574088da187c",
   "metadata": {},
   "outputs": [
    {
     "data": {
      "text/plain": [
       "array([ 1,  2,  6,  7,  8,  9, 10])"
      ]
     },
     "execution_count": 549,
     "metadata": {},
     "output_type": "execute_result"
    }
   ],
   "source": [
    "a[filt]"
   ]
  },
  {
   "cell_type": "code",
   "execution_count": 551,
   "id": "b3d577d8-3bd6-487c-a6a4-896649b37ad3",
   "metadata": {},
   "outputs": [],
   "source": [
    "#filtrenin değili"
   ]
  },
  {
   "cell_type": "code",
   "execution_count": 553,
   "id": "17d3eb84-456b-45e1-83c0-5060cd0529da",
   "metadata": {},
   "outputs": [
    {
     "ename": "ValueError",
     "evalue": "The truth value of an array with more than one element is ambiguous. Use a.any() or a.all()",
     "output_type": "error",
     "traceback": [
      "\u001b[1;31m---------------------------------------------------------------------------\u001b[0m",
      "\u001b[1;31mValueError\u001b[0m                                Traceback (most recent call last)",
      "Cell \u001b[1;32mIn[553], line 1\u001b[0m\n\u001b[1;32m----> 1\u001b[0m a[\u001b[38;5;129;01mnot\u001b[39;00m filt]\n",
      "\u001b[1;31mValueError\u001b[0m: The truth value of an array with more than one element is ambiguous. Use a.any() or a.all()"
     ]
    }
   ],
   "source": [
    "a[not filt]"
   ]
  },
  {
   "cell_type": "code",
   "execution_count": 557,
   "id": "75cbc2dc-d818-4f4d-9648-4ed52b2e8ec4",
   "metadata": {},
   "outputs": [
    {
     "data": {
      "text/plain": [
       "array([3, 4, 5])"
      ]
     },
     "execution_count": 557,
     "metadata": {},
     "output_type": "execute_result"
    }
   ],
   "source": [
    "a[~filt] #tilda işareti ile bir filtrenin değilini alabiliriz"
   ]
  },
  {
   "cell_type": "code",
   "execution_count": 559,
   "id": "198a925f-f6ee-46b8-b04b-8b44eb129a7c",
   "metadata": {},
   "outputs": [],
   "source": [
    "a = np.arange(20).reshape(4,5)"
   ]
  },
  {
   "cell_type": "code",
   "execution_count": 561,
   "id": "493cf3ef-8f5c-45be-84b1-cdce2525d310",
   "metadata": {},
   "outputs": [
    {
     "data": {
      "text/plain": [
       "array([[ 0,  1,  2,  3,  4],\n",
       "       [ 5,  6,  7,  8,  9],\n",
       "       [10, 11, 12, 13, 14],\n",
       "       [15, 16, 17, 18, 19]])"
      ]
     },
     "execution_count": 561,
     "metadata": {},
     "output_type": "execute_result"
    }
   ],
   "source": [
    "a"
   ]
  },
  {
   "cell_type": "code",
   "execution_count": 563,
   "id": "9b9ab7a3-63b1-45a9-928c-b21b01b9c2e8",
   "metadata": {},
   "outputs": [
    {
     "data": {
      "text/plain": [
       "array([[ True,  True,  True,  True,  True],\n",
       "       [ True,  True, False, False, False],\n",
       "       [False, False, False, False, False],\n",
       "       [False, False, False, False, False]])"
      ]
     },
     "execution_count": 563,
     "metadata": {},
     "output_type": "execute_result"
    }
   ],
   "source": [
    "a < 7"
   ]
  },
  {
   "cell_type": "code",
   "execution_count": 565,
   "id": "0674b389-f6a1-4e7b-ba79-58d0cb9424b2",
   "metadata": {},
   "outputs": [
    {
     "data": {
      "text/plain": [
       "array([[False, False, False, False, False],\n",
       "       [False, False, False, False, False],\n",
       "       [False, False, False, False, False],\n",
       "       [False, False, False, False, False]])"
      ]
     },
     "execution_count": 565,
     "metadata": {},
     "output_type": "execute_result"
    }
   ],
   "source": [
    "a == None"
   ]
  },
  {
   "cell_type": "markdown",
   "id": "b17780b9-4e38-4e70-a234-87e054602656",
   "metadata": {},
   "source": [
    "# sum"
   ]
  },
  {
   "cell_type": "code",
   "execution_count": 580,
   "id": "4a7d7c7f-a08f-4dc5-9c9b-6f208cfc8a31",
   "metadata": {},
   "outputs": [],
   "source": [
    "a = np.arange(1,21).reshape(4,5)"
   ]
  },
  {
   "cell_type": "code",
   "execution_count": 582,
   "id": "2b0b1330-521f-4b7c-a933-7c375548e68b",
   "metadata": {},
   "outputs": [
    {
     "data": {
      "text/plain": [
       "array([[ 1,  2,  3,  4,  5],\n",
       "       [ 6,  7,  8,  9, 10],\n",
       "       [11, 12, 13, 14, 15],\n",
       "       [16, 17, 18, 19, 20]])"
      ]
     },
     "execution_count": 582,
     "metadata": {},
     "output_type": "execute_result"
    }
   ],
   "source": [
    "a"
   ]
  },
  {
   "cell_type": "code",
   "execution_count": 584,
   "id": "6210f0c5-6f0e-48df-8eab-98acb3e965e3",
   "metadata": {},
   "outputs": [
    {
     "data": {
      "text/plain": [
       "210"
      ]
     },
     "execution_count": 584,
     "metadata": {},
     "output_type": "execute_result"
    }
   ],
   "source": [
    "np.sum(a)"
   ]
  },
  {
   "cell_type": "code",
   "execution_count": 598,
   "id": "d91ec955-f055-43ff-bc0a-fd44efdda223",
   "metadata": {},
   "outputs": [],
   "source": [
    "filt = a < 5"
   ]
  },
  {
   "cell_type": "code",
   "execution_count": 600,
   "id": "72c28e5a-fd83-4c76-b698-525ecc8c9674",
   "metadata": {},
   "outputs": [
    {
     "data": {
      "text/plain": [
       "array([1, 2, 3, 4])"
      ]
     },
     "execution_count": 600,
     "metadata": {},
     "output_type": "execute_result"
    }
   ],
   "source": [
    "a[filt]"
   ]
  },
  {
   "cell_type": "code",
   "execution_count": 608,
   "id": "6bf57d45-b8a0-4fc2-891c-beb850967f7d",
   "metadata": {},
   "outputs": [
    {
     "data": {
      "text/plain": [
       "10"
      ]
     },
     "execution_count": 608,
     "metadata": {},
     "output_type": "execute_result"
    }
   ],
   "source": [
    "np.sum(a[filt])"
   ]
  },
  {
   "cell_type": "code",
   "execution_count": 624,
   "id": "9e72a79a-da70-4efc-bb2a-d1a7a559ebd4",
   "metadata": {},
   "outputs": [],
   "source": [
    "filt = (a>2) & (a<5)"
   ]
  },
  {
   "cell_type": "code",
   "execution_count": 626,
   "id": "35346b6a-bd65-4257-99c5-79b6011912fe",
   "metadata": {},
   "outputs": [
    {
     "data": {
      "text/plain": [
       "array([3, 4])"
      ]
     },
     "execution_count": 626,
     "metadata": {},
     "output_type": "execute_result"
    }
   ],
   "source": [
    "a[filt]"
   ]
  },
  {
   "cell_type": "code",
   "execution_count": 628,
   "id": "26aaac89-a289-4a30-8231-a695583eff82",
   "metadata": {},
   "outputs": [
    {
     "data": {
      "text/plain": [
       "7"
      ]
     },
     "execution_count": 628,
     "metadata": {},
     "output_type": "execute_result"
    }
   ],
   "source": [
    "np.sum(a[filt])"
   ]
  },
  {
   "cell_type": "code",
   "execution_count": 639,
   "id": "0c3b073b-3aa8-4444-b6cf-4311f16481f4",
   "metadata": {},
   "outputs": [
    {
     "data": {
      "text/plain": [
       "array([34, 38, 42, 46, 50])"
      ]
     },
     "execution_count": 639,
     "metadata": {},
     "output_type": "execute_result"
    }
   ],
   "source": [
    "np.sum(a, axis = 0)"
   ]
  },
  {
   "cell_type": "code",
   "execution_count": 648,
   "id": "3c10849f-bb35-4221-83c9-e48cbfe31153",
   "metadata": {},
   "outputs": [
    {
     "data": {
      "text/plain": [
       "array([ 2, 12])"
      ]
     },
     "execution_count": 648,
     "metadata": {},
     "output_type": "execute_result"
    }
   ],
   "source": [
    "my_array = np.array([ [1, 2], [3, 4] ])\n",
    "\n",
    "np.prod(my_array, axis = 0)            #Output : [3 8], prod ile çarpımlarını alırız.\n",
    "np.prod(my_array, axis = 1)            #Output : [ 2 12]"
   ]
  },
  {
   "cell_type": "markdown",
   "id": "05ccab4a-920e-48cd-b379-d5b2e36fc709",
   "metadata": {},
   "source": [
    "# all\n",
    "Tüm elemanların verilen şartı sağlayıp sağlamadığına bakar."
   ]
  },
  {
   "cell_type": "code",
   "execution_count": 652,
   "id": "e2002d9f-71de-4144-afd4-4c8460c84ca3",
   "metadata": {},
   "outputs": [
    {
     "data": {
      "text/plain": [
       "array([[ 1,  2,  3,  4,  5],\n",
       "       [ 6,  7,  8,  9, 10],\n",
       "       [11, 12, 13, 14, 15],\n",
       "       [16, 17, 18, 19, 20]])"
      ]
     },
     "execution_count": 652,
     "metadata": {},
     "output_type": "execute_result"
    }
   ],
   "source": [
    "a"
   ]
  },
  {
   "cell_type": "code",
   "execution_count": 654,
   "id": "fb74ff38-7858-4804-8595-0ed9ef674cf5",
   "metadata": {},
   "outputs": [
    {
     "data": {
      "text/plain": [
       "array([[ True,  True,  True,  True,  True],\n",
       "       [ True,  True,  True,  True,  True],\n",
       "       [ True,  True,  True,  True,  True],\n",
       "       [ True,  True,  True,  True,  True]])"
      ]
     },
     "execution_count": 654,
     "metadata": {},
     "output_type": "execute_result"
    }
   ],
   "source": [
    "a > -1"
   ]
  },
  {
   "cell_type": "code",
   "execution_count": 658,
   "id": "f8af3826-cc3f-4d4f-83b1-8ce5d94e7edb",
   "metadata": {},
   "outputs": [
    {
     "data": {
      "text/plain": [
       "True"
      ]
     },
     "execution_count": 658,
     "metadata": {},
     "output_type": "execute_result"
    }
   ],
   "source": [
    "np.all(a>-1)"
   ]
  },
  {
   "cell_type": "code",
   "execution_count": 660,
   "id": "2044782d-7ab4-4924-ac70-e11af32e435f",
   "metadata": {},
   "outputs": [
    {
     "data": {
      "text/plain": [
       "False"
      ]
     },
     "execution_count": 660,
     "metadata": {},
     "output_type": "execute_result"
    }
   ],
   "source": [
    "np.all(a>5)"
   ]
  },
  {
   "cell_type": "code",
   "execution_count": 680,
   "id": "f66514c9-7916-4adc-a8fd-8d3feed2142d",
   "metadata": {},
   "outputs": [
    {
     "data": {
      "text/plain": [
       "array([[False, False, False, False, False],\n",
       "       [ True,  True,  True,  True,  True],\n",
       "       [ True,  True,  True,  True,  True],\n",
       "       [ True,  True,  True,  True,  True]])"
      ]
     },
     "execution_count": 680,
     "metadata": {},
     "output_type": "execute_result"
    }
   ],
   "source": [
    "(a>5)"
   ]
  },
  {
   "cell_type": "code",
   "execution_count": 676,
   "id": "03df6659-e71e-487d-8f93-faa104aec1aa",
   "metadata": {},
   "outputs": [
    {
     "data": {
      "text/plain": [
       "array([False,  True,  True,  True])"
      ]
     },
     "execution_count": 676,
     "metadata": {},
     "output_type": "execute_result"
    }
   ],
   "source": [
    "np.all(a>5, axis=1)"
   ]
  },
  {
   "cell_type": "code",
   "execution_count": 678,
   "id": "36fe9541-29c4-4aaa-8aea-39f3e5cfca25",
   "metadata": {},
   "outputs": [
    {
     "data": {
      "text/plain": [
       "array([False, False, False, False, False])"
      ]
     },
     "execution_count": 678,
     "metadata": {},
     "output_type": "execute_result"
    }
   ],
   "source": [
    "np.all(a>5, axis=0)"
   ]
  },
  {
   "cell_type": "markdown",
   "id": "25ad9433-1d22-4217-9270-4ddb55d6c1cd",
   "metadata": {},
   "source": [
    "# any\n",
    "Herhangi bir elemanın verilen şartı sağlayıp sağlamadığına bakar."
   ]
  },
  {
   "cell_type": "code",
   "execution_count": 685,
   "id": "677ca435-e7bb-4876-beac-27e58ee952de",
   "metadata": {},
   "outputs": [
    {
     "data": {
      "text/plain": [
       "array([[ 1,  2,  3,  4,  5],\n",
       "       [ 6,  7,  8,  9, 10],\n",
       "       [11, 12, 13, 14, 15],\n",
       "       [16, 17, 18, 19, 20]])"
      ]
     },
     "execution_count": 685,
     "metadata": {},
     "output_type": "execute_result"
    }
   ],
   "source": [
    "a"
   ]
  },
  {
   "cell_type": "code",
   "execution_count": 687,
   "id": "6fbad15e-3671-429d-b653-e57b2de35db8",
   "metadata": {},
   "outputs": [
    {
     "data": {
      "text/plain": [
       "True"
      ]
     },
     "execution_count": 687,
     "metadata": {},
     "output_type": "execute_result"
    }
   ],
   "source": [
    "np.any(a>10)"
   ]
  },
  {
   "cell_type": "code",
   "execution_count": 689,
   "id": "7e989ba9-0704-4f40-807f-ee6fdc0bd042",
   "metadata": {},
   "outputs": [
    {
     "data": {
      "text/plain": [
       "array([False, False,  True,  True])"
      ]
     },
     "execution_count": 689,
     "metadata": {},
     "output_type": "execute_result"
    }
   ],
   "source": [
    "np.any(a>10, axis=1)"
   ]
  },
  {
   "cell_type": "code",
   "execution_count": 691,
   "id": "82d819a6-6cfa-4a21-9945-c4ce61ad50e4",
   "metadata": {},
   "outputs": [
    {
     "data": {
      "text/plain": [
       "array([ True,  True,  True,  True,  True])"
      ]
     },
     "execution_count": 691,
     "metadata": {},
     "output_type": "execute_result"
    }
   ],
   "source": [
    "np.any(a>10,axis=0)"
   ]
  }
 ],
 "metadata": {
  "kernelspec": {
   "display_name": "Python [conda env:base] *",
   "language": "python",
   "name": "conda-base-py"
  },
  "language_info": {
   "codemirror_mode": {
    "name": "ipython",
    "version": 3
   },
   "file_extension": ".py",
   "mimetype": "text/x-python",
   "name": "python",
   "nbconvert_exporter": "python",
   "pygments_lexer": "ipython3",
   "version": "3.12.7"
  }
 },
 "nbformat": 4,
 "nbformat_minor": 5
}
