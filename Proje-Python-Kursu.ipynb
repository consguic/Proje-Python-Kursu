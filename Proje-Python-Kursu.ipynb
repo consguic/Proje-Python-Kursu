{
 "cells": [
  {
   "cell_type": "markdown",
   "id": "201f2e08-02da-4ec3-bbed-3934afd573f1",
   "metadata": {},
   "source": [
    "# Patika.dev Python Kursu Projesi\n",
    "\n",
    "1- Bir listeyi düzleştiren (flatten) fonksiyon yazın. Elemanları birden çok katmanlı listelerden ([[3],2] gibi) oluşabileceği gibi, non-scalar verilerden de oluşabilir. Örnek olarak:\n",
    "\n",
    "input: [[1,'a',['cat'],2],[[[3]],'dog'],4,5]\n",
    "\n",
    "output: [1,'a','cat',2,3,'dog',4,5]\n",
    "\n",
    "2- Verilen listenin içindeki elemanları tersine döndüren bir fonksiyon yazın. Eğer listenin içindeki elemanlar da liste içeriyorsa onların elemanlarını da tersine döndürün. Örnek olarak:\n",
    "\n",
    "input: [[1, 2], [3, 4], [5, 6, 7]]\n",
    "\n",
    "output: [[[7, 6, 5], [4, 3], [2, 1]]"
   ]
  },
  {
   "cell_type": "code",
   "execution_count": 27,
   "id": "2ba070ed-3bd7-4e48-a1e4-b7937c185f2c",
   "metadata": {},
   "outputs": [
    {
     "data": {
      "text/plain": [
       "[1, 'a', 'cat', 2, 3, 'dog', 4, 5]"
      ]
     },
     "execution_count": 27,
     "metadata": {},
     "output_type": "execute_result"
    }
   ],
   "source": [
    "def Flatten(given):\n",
    "    # `taken` her fonksiyon çağrısında sıfırlanır (yeni bir liste başlatılır).\n",
    "    taken = []\n",
    "    \n",
    "    # Verilen listedeki her eleman için döngü başlatılır.\n",
    "    for i in given:\n",
    "        # Eğer eleman str, int veya float türünde ise, 'taken' listesine eklenir.\n",
    "        if isinstance(i, (str, int, float)):\n",
    "            taken.append(i)\n",
    "        else:\n",
    "            # Eğer eleman bir liste ise, `Flatten(i)` ile alt liste açılır ve `extend` ile elemanlar eklenir.\n",
    "            taken.extend(Flatten(i))  # Burada `Flatten(i)` bir liste döndürür, her eleman tek tek eklenir.\n",
    "    \n",
    "    # Sonuç olarak, düzleştirilmiş liste geri döndürülür.\n",
    "    return taken\n",
    "\n",
    "Flatten([[1, 'a', ['cat'], 2], [[[3]], 'dog'], 4, 5])"
   ]
  },
  {
   "cell_type": "code",
   "execution_count": 49,
   "id": "e3eab929-7124-4acd-ac2a-ef805110b77a",
   "metadata": {},
   "outputs": [
    {
     "data": {
      "text/plain": [
       "[[7, 6, 5], [4, 3], [2, 1]]"
      ]
     },
     "execution_count": 49,
     "metadata": {},
     "output_type": "execute_result"
    }
   ],
   "source": [
    "def Reverse_list(given):\n",
    "    # Verilen listedeki her eleman için döngü başlatılır.\n",
    "    for index,i in enumerate(given[::-1]):\n",
    "        if isinstance(i , (str,int,float)):\n",
    "            continue\n",
    "        else:\n",
    "            given[index] = i[::-1]\n",
    "    return given\n",
    "    \n",
    "Reverse_list([[1, 2], [3, 4], [5, 6, 7]])"
   ]
  },
  {
   "cell_type": "code",
   "execution_count": null,
   "id": "093d54a5-076d-4079-9a93-981bb5bb6b7d",
   "metadata": {},
   "outputs": [],
   "source": []
  }
 ],
 "metadata": {
  "kernelspec": {
   "display_name": "Python [conda env:base] *",
   "language": "python",
   "name": "conda-base-py"
  },
  "language_info": {
   "codemirror_mode": {
    "name": "ipython",
    "version": 3
   },
   "file_extension": ".py",
   "mimetype": "text/x-python",
   "name": "python",
   "nbconvert_exporter": "python",
   "pygments_lexer": "ipython3",
   "version": "3.12.7"
  }
 },
 "nbformat": 4,
 "nbformat_minor": 5
}
